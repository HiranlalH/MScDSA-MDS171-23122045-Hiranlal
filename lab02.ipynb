{
 "cells": [
  {
   "cell_type": "code",
   "execution_count": 1,
   "metadata": {},
   "outputs": [
    {
     "name": "stdout",
     "output_type": "stream",
     "text": [
      "Type 4 if you want to exit\n",
      "The length of Hlist: 5\n",
      "['hiran', 'kumar', 'mathu', 'rajan', 'ravi']\n"
     ]
    }
   ],
   "source": [
    "Hlist=[]\n",
    "def name():\n",
    "    print(\"Type 4 if you want to exit\")\n",
    "    while True:\n",
    "        n=input(\"enter the name:\") # entering  name of the villagers \n",
    "        s=n.strip()    #To avoid  spacing\n",
    "        \n",
    "        if s in Hlist:\n",
    "            print(\"the name already exist\")\n",
    "        elif n==\"q\":\n",
    "            break\n",
    "        else:\n",
    "            Hlist.append(n)\n",
    "            Hlist.sort()\n",
    "\n",
    "name()\n",
    "print(\"The length of Hlist:\" ,len(Hlist))\n",
    "\n",
    "\n",
    "print(Hlist)"
   ]
  }
 ],
 "metadata": {
  "kernelspec": {
   "display_name": "Python 3",
   "language": "python",
   "name": "python3"
  },
  "language_info": {
   "codemirror_mode": {
    "name": "ipython",
    "version": 3
   },
   "file_extension": ".py",
   "mimetype": "text/x-python",
   "name": "python",
   "nbconvert_exporter": "python",
   "pygments_lexer": "ipython3",
   "version": "3.11.5"
  },
  "orig_nbformat": 4
 },
 "nbformat": 4,
 "nbformat_minor": 2
}
