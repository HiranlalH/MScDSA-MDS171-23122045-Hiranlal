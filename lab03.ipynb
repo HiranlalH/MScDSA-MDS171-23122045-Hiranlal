{
 "cells": [
  {
   "cell_type": "code",
   "execution_count": 9,
   "metadata": {},
   "outputs": [
    {
     "name": "stdout",
     "output_type": "stream",
     "text": [
      "mean:, 542.94\n"
     ]
    }
   ],
   "source": [
    "#finding mean\n",
    "vlist=[761, 123, 585, 275, 194, 840, 999, 622, 763, 40, 825, 687, 402, 338, 611, 987, 739, 95, 819, 568, 320, 126, 688, 948, 514, 223, 751, 379, 857, 767, 492, 162, 437, 934, 430, 343, 725, 511, 580, 678, 708, 823, 346, 179, 786, 663, 195, 890, 267, 502, 214, 300, 786, 961, 235, 559, 992, 919, 948, 318, 57, 787, 653, 317, 305, 172, 966, 182, 970, 17, 89, 624, 629, 595, 485, 752, 984, 978, 460, 124, 321, 256, 614, 852, 811, 561, 127, 207, 406, 615, 888, 391, 691, 470, 911, 401, 137, 600, 478, 682]\n",
    "a=0\n",
    "b=0\n",
    "for i in vlist:\n",
    "    a=a+i\n",
    "    b=b+1\n",
    "mean=a/b\n",
    "print(\"mean:,\",mean)    \n"
   ]
  },
  {
   "cell_type": "markdown",
   "metadata": {},
   "source": []
  },
  {
   "cell_type": "code",
   "execution_count": 10,
   "metadata": {},
   "outputs": [
    {
     "name": "stdout",
     "output_type": "stream",
     "text": [
      "Minimum: 17\n"
     ]
    }
   ],
   "source": [
    "#finding minimum\n",
    "minimum = vlist[0]  \n",
    "for num in vlist:\n",
    "    if num < minimum:\n",
    "        minimum = num\n",
    "\n",
    "print(\"Minimum:\", minimum)\n",
    "\n"
   ]
  },
  {
   "cell_type": "code",
   "execution_count": 14,
   "metadata": {},
   "outputs": [
    {
     "name": "stdout",
     "output_type": "stream",
     "text": [
      "Maximum: 999\n",
      "Range: 982\n"
     ]
    }
   ],
   "source": [
    "\n",
    "#finding range\n",
    "\n",
    "maximum =vlist[0]\n",
    "for abc in vlist:\n",
    "    if abc > maximum:\n",
    "        maximum=abc\n",
    "\n",
    "print(\"Maximum:\",maximum)\n",
    "\n",
    "\n",
    "\n",
    "Range=maximum-minimum\n",
    "print(\"Range:\",Range)\n",
    "\n",
    "\n",
    "\n"
   ]
  },
  {
   "cell_type": "code",
   "execution_count": 7,
   "metadata": {},
   "outputs": [
    {
     "name": "stdout",
     "output_type": "stream",
     "text": [
      "Mean using built in function 542.94\n",
      "Minimum value using built in function 17\n",
      "Maximum value using built in function 999\n",
      "Range using built in function 982\n"
     ]
    }
   ],
   "source": [
    "listex=[761, 123, 585, 275, 194, 840, 999, 622, 763, 40, 825, 687, 402, 338, 611, 987, 739, 95, 819, 568, 320, 126, 688, 948, 514, 223, 751, 379, 857, 767, 492, 162, 437, 934, 430, 343, 725, 511, 580, 678, 708, 823, 346, 179, 786, 663, 195, 890, 267, 502, 214, 300, 786, 961, 235, 559, 992, 919, 948, 318, 57, 787, 653, 317, 305, 172, 966, 182, 970, 17, 89, 624, 629, 595, 485, 752, 984, 978, 460, 124, 321, 256, 614, 852, 811, 561, 127, 207, 406, 615, 888, 391, 691, 470, 911, 401, 137, 600, 478, 682]\n",
    "a=sum(listex)\n",
    "b=a/len(listex)\n",
    "print(\"Mean using built in function\",b)\n",
    "c= min(listex)\n",
    "d=max(listex)\n",
    "print(\"Minimum value using built in function\",c)\n",
    "print(\"Maximum value using built in function\",d)\n",
    "e=d-c\n",
    "print(\"Range using built in function\",e)\n"
   ]
  }
 ],
 "metadata": {
  "kernelspec": {
   "display_name": "Python 3",
   "language": "python",
   "name": "python3"
  },
  "language_info": {
   "codemirror_mode": {
    "name": "ipython",
    "version": 3
   },
   "file_extension": ".py",
   "mimetype": "text/x-python",
   "name": "python",
   "nbconvert_exporter": "python",
   "pygments_lexer": "ipython3",
   "version": "3.11.5"
  },
  "orig_nbformat": 4
 },
 "nbformat": 4,
 "nbformat_minor": 2
}
