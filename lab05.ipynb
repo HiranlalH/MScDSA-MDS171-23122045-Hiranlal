{
 "cells": [
  {
   "cell_type": "code",
   "execution_count": 1,
   "metadata": {},
   "outputs": [
    {
     "name": "stdout",
     "output_type": "stream",
     "text": [
      "Character Count\n",
      " The total number of vowels is = 3\n",
      "Count of  A is 1\n",
      "Count of  E is 2\n",
      "Count of  I is 0\n",
      "Count of  O is 0\n",
      "Count of  U is 0\n",
      "\n",
      "Vowels are 37.5 % in the word ELEPHANT\n"
     ]
    }
   ],
   "source": [
    "def countvowels(a):\n",
    "    charcount=[0]*5\n",
    "    totalvowels=0\n",
    "    vowels =[\"A\",\"E\",\"I\",\"O\",\"U\"]\n",
    "    print(\"Character Count\")\n",
    "    for j in range(0,5):\n",
    "        for i in a:\n",
    "            if vowels[j] == i:\n",
    "                charcount[j] = charcount[j]+1\n",
    "                totalvowels = totalvowels+1\n",
    "    print(\" The total number of vowels is =\", totalvowels)  \n",
    "    for i in range(0,5):\n",
    "        print(\"Count of \",vowels[i],\"is\",charcount[i])\n",
    "    print(\"\\nVowels are\",round((totalvowels/len(a))*100,2),\"%\",\"in the word\",a)                  \n",
    "\n",
    "word = input(\"Enter the word\")\n",
    "word = word.strip() # removes whitespaces\n",
    "word = word.upper() # .upper() used for changing small letters to capital, .lower for capital to small\n",
    "countvowels(word)  # calling the function"
   ]
  }
 ],
 "metadata": {
  "kernelspec": {
   "display_name": "Python 3",
   "language": "python",
   "name": "python3"
  },
  "language_info": {
   "codemirror_mode": {
    "name": "ipython",
    "version": 3
   },
   "file_extension": ".py",
   "mimetype": "text/x-python",
   "name": "python",
   "nbconvert_exporter": "python",
   "pygments_lexer": "ipython3",
   "version": "3.11.5"
  },
  "orig_nbformat": 4
 },
 "nbformat": 4,
 "nbformat_minor": 2
}
