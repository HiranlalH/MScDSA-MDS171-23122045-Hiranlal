{
 "cells": [
  {
   "cell_type": "code",
   "execution_count": 1,
   "metadata": {},
   "outputs": [],
   "source": [
    "Items=[\"Rice\",\"Flour\",\"DishWasher\",\"Olive Oil\",\"Coffee\",\"Sugar\",\"Tea\",\"Detergent\",\"Airfreshner\",\"Salt\"]\n",
    "Quantity= [3,5,6,7,8,6,3,5,6,8]\n",
    "Price = [230,240,100,230,330,204,332,258,264,635]\n",
    "Total=[]"
   ]
  },
  {
   "cell_type": "code",
   "execution_count": 2,
   "metadata": {},
   "outputs": [
    {
     "ename": "NameError",
     "evalue": "name 'random' is not defined",
     "output_type": "error",
     "traceback": [
      "\u001b[1;31m---------------------------------------------------------------------------\u001b[0m",
      "\u001b[1;31mNameError\u001b[0m                                 Traceback (most recent call last)",
      "\u001b[1;32md:\\MScDSA-MDS171-23122045-Hiranlal\\lab05.ipynb Cell 2\u001b[0m line \u001b[0;36m1\n\u001b[0;32m      <a href='vscode-notebook-cell:/d%3A/MScDSA-MDS171-23122045-Hiranlal/lab05.ipynb#W1sZmlsZQ%3D%3D?line=6'>7</a>\u001b[0m         total\u001b[39m=\u001b[39mQuantity[quantity]\u001b[39m*\u001b[39mPrice[price]\n\u001b[0;32m      <a href='vscode-notebook-cell:/d%3A/MScDSA-MDS171-23122045-Hiranlal/lab05.ipynb#W1sZmlsZQ%3D%3D?line=8'>9</a>\u001b[0m         file\u001b[39m.\u001b[39mwrite(Items[items]\u001b[39m+\u001b[39m\u001b[39m\"\u001b[39m\u001b[39m,\u001b[39m\u001b[39m\"\u001b[39m\u001b[39m+\u001b[39m\u001b[39m\"\u001b[39m\u001b[39m\\t\u001b[39;00m\u001b[39m\"\u001b[39m\u001b[39m+\u001b[39m\u001b[39mstr\u001b[39m(Quantity[quantity])\u001b[39m+\u001b[39m\u001b[39m\"\u001b[39m\u001b[39m,\u001b[39m\u001b[39m\"\u001b[39m\u001b[39m+\u001b[39m\u001b[39m\"\u001b[39m\u001b[39m\\t\u001b[39;00m\u001b[39m\"\u001b[39m\u001b[39m+\u001b[39m\u001b[39mstr\u001b[39m(Price[price])\u001b[39m+\u001b[39m\u001b[39m\"\u001b[39m\u001b[39m,\u001b[39m\u001b[39m\"\u001b[39m\u001b[39m+\u001b[39m\u001b[39m\"\u001b[39m\u001b[39m\\t\u001b[39;00m\u001b[39m\"\u001b[39m\u001b[39m+\u001b[39m\u001b[39m\"\u001b[39m\u001b[39mTotal\u001b[39m\u001b[39m\"\u001b[39m\u001b[39m+\u001b[39m\u001b[39mstr\u001b[39m(total)\u001b[39m+\u001b[39m\u001b[39m\"\u001b[39m\u001b[39m \u001b[39m\u001b[39m\\n\u001b[39;00m\u001b[39m \u001b[39m\u001b[39m\"\u001b[39m)\n\u001b[1;32m---> <a href='vscode-notebook-cell:/d%3A/MScDSA-MDS171-23122045-Hiranlal/lab05.ipynb#W1sZmlsZQ%3D%3D?line=11'>12</a>\u001b[0m GroceryItems(Items,Quantity,Price)\n",
      "\u001b[1;32md:\\MScDSA-MDS171-23122045-Hiranlal\\lab05.ipynb Cell 2\u001b[0m line \u001b[0;36m4\n\u001b[0;32m      <a href='vscode-notebook-cell:/d%3A/MScDSA-MDS171-23122045-Hiranlal/lab05.ipynb#W1sZmlsZQ%3D%3D?line=1'>2</a>\u001b[0m file\u001b[39m=\u001b[39m\u001b[39mopen\u001b[39m(\u001b[39m\"\u001b[39m\u001b[39mPractise.csv\u001b[39m\u001b[39m\"\u001b[39m,\u001b[39m\"\u001b[39m\u001b[39mw+\u001b[39m\u001b[39m\"\u001b[39m)\n\u001b[0;32m      <a href='vscode-notebook-cell:/d%3A/MScDSA-MDS171-23122045-Hiranlal/lab05.ipynb#W1sZmlsZQ%3D%3D?line=2'>3</a>\u001b[0m \u001b[39mfor\u001b[39;00m i \u001b[39min\u001b[39;00m \u001b[39mrange\u001b[39m(\u001b[39m100\u001b[39m):\n\u001b[1;32m----> <a href='vscode-notebook-cell:/d%3A/MScDSA-MDS171-23122045-Hiranlal/lab05.ipynb#W1sZmlsZQ%3D%3D?line=3'>4</a>\u001b[0m     items\u001b[39m=\u001b[39mrandom\u001b[39m.\u001b[39mrandint(\u001b[39m0\u001b[39m,\u001b[39m9\u001b[39m)\n\u001b[0;32m      <a href='vscode-notebook-cell:/d%3A/MScDSA-MDS171-23122045-Hiranlal/lab05.ipynb#W1sZmlsZQ%3D%3D?line=4'>5</a>\u001b[0m     quantity\u001b[39m=\u001b[39mrandom\u001b[39m.\u001b[39mrandint(\u001b[39m0\u001b[39m,\u001b[39m9\u001b[39m)\n\u001b[0;32m      <a href='vscode-notebook-cell:/d%3A/MScDSA-MDS171-23122045-Hiranlal/lab05.ipynb#W1sZmlsZQ%3D%3D?line=5'>6</a>\u001b[0m     price \u001b[39m=\u001b[39m random\u001b[39m.\u001b[39mrandint(\u001b[39m0\u001b[39m,\u001b[39m9\u001b[39m)\n",
      "\u001b[1;31mNameError\u001b[0m: name 'random' is not defined"
     ]
    }
   ],
   "source": [
    "def GroceryItems(Items,Quantity,Price):\n",
    "    file=open(\"Practise.csv\",\"w+\")\n",
    "    for i in range(100):\n",
    "        items=random.randint(0,9)\n",
    "        quantity=random.randint(0,9)\n",
    "        price=random.randint(0,9)\n",
    "        total=Quantity[quantity]*Price[price]\n",
    "       \n",
    "        file.write(Items[items]+\",\"+\"\\t\"+str(Quantity[quantity])+\",\"+\"\\t\"+str(Price[price])+\",\"+\"\\t\"+\"Total\"+str(total)+\" \\n \")\n",
    "\n",
    "\n",
    "GroceryItems(Items,Quantity,Price)"
   ]
  },
  {
   "cell_type": "code",
   "execution_count": 5,
   "metadata": {},
   "outputs": [
    {
     "ename": "NameError",
     "evalue": "name '__file__' is not defined",
     "output_type": "error",
     "traceback": [
      "\u001b[1;31m---------------------------------------------------------------------------\u001b[0m",
      "\u001b[1;31mNameError\u001b[0m                                 Traceback (most recent call last)",
      "\u001b[1;32md:\\MScDSA-MDS171-23122045-Hiranlal\\lab05.ipynb Cell 3\u001b[0m line \u001b[0;36m3\n\u001b[0;32m      <a href='vscode-notebook-cell:/d%3A/MScDSA-MDS171-23122045-Hiranlal/lab05.ipynb#W2sZmlsZQ%3D%3D?line=0'>1</a>\u001b[0m le \u001b[39m=\u001b[39m \u001b[39mopen\u001b[39m(\u001b[39m\"\u001b[39m\u001b[39mPractise.csv\u001b[39m\u001b[39m\"\u001b[39m,\u001b[39m\"\u001b[39m\u001b[39mr+\u001b[39m\u001b[39m\"\u001b[39m)\n\u001b[0;32m      <a href='vscode-notebook-cell:/d%3A/MScDSA-MDS171-23122045-Hiranlal/lab05.ipynb#W2sZmlsZQ%3D%3D?line=1'>2</a>\u001b[0m \u001b[39mfor\u001b[39;00m lines \u001b[39min\u001b[39;00m \u001b[39mrange\u001b[39m(\u001b[39m90\u001b[39m,\u001b[39m100\u001b[39m):\n\u001b[1;32m----> <a href='vscode-notebook-cell:/d%3A/MScDSA-MDS171-23122045-Hiranlal/lab05.ipynb#W2sZmlsZQ%3D%3D?line=2'>3</a>\u001b[0m     lines \u001b[39m=\u001b[39m\u001b[39m__file__\u001b[39;49m\u001b[39m.\u001b[39mreadline()\n\u001b[0;32m      <a href='vscode-notebook-cell:/d%3A/MScDSA-MDS171-23122045-Hiranlal/lab05.ipynb#W2sZmlsZQ%3D%3D?line=3'>4</a>\u001b[0m     \u001b[39mprint\u001b[39m(lines)\n",
      "\u001b[1;31mNameError\u001b[0m: name '__file__' is not defined"
     ]
    }
   ],
   "source": [
    "le = open(\"Practise.csv\",\"r+\")\n",
    "for lines in range(90,100):\n",
    "    lines =file.readline()\n",
    "    print(lines)"
   ]
  }
 ],
 "metadata": {
  "kernelspec": {
   "display_name": "Python 3",
   "language": "python",
   "name": "python3"
  },
  "language_info": {
   "codemirror_mode": {
    "name": "ipython",
    "version": 3
   },
   "file_extension": ".py",
   "mimetype": "text/x-python",
   "name": "python",
   "nbconvert_exporter": "python",
   "pygments_lexer": "ipython3",
   "version": "3.11.5"
  },
  "orig_nbformat": 4
 },
 "nbformat": 4,
 "nbformat_minor": 2
}
