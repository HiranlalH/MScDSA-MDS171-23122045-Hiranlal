{
 "cells": [
  {
   "cell_type": "code",
   "execution_count": 1,
   "metadata": {},
   "outputs": [
    {
     "name": "stdout",
     "output_type": "stream",
     "text": [
      "\n",
      "Menu:\n",
      "1. Enter Matrix 1\n",
      "2. Enter Matrix 2\n",
      "3. Calculate\n",
      "4. Export to File\n",
      "5. Quit\n",
      "Invalid choice. Please try again.\n",
      "\n",
      "Menu:\n",
      "1. Enter Matrix 1\n",
      "2. Enter Matrix 2\n",
      "3. Calculate\n",
      "4. Export to File\n",
      "5. Quit\n"
     ]
    }
   ],
   "source": [
    "# Function to collect the matrix and store in the dictionary\n",
    "def collect_matrix(matrix_name):\n",
    "    matrix = []\n",
    "    num_rows = int(input(f\"Enter the number of rows for {matrix_name}: \"))\n",
    "    num_cols = int(input(f\"Enter the number of columns for {matrix_name}: \"))\n",
    "\n",
    "    for i in range(num_rows):\n",
    "        row = []\n",
    "        for j in range(num_cols):\n",
    "            element = float(input(f\"Enter element ({i+1}, {j+1}): \"))\n",
    "            row.append(element)\n",
    "        matrix.append(row)\n",
    "\n",
    "    matrices[matrix_name] = matrix\n",
    "\n",
    "# Function to process the matrix and store it in the dictionary\n",
    "def process_matrices():\n",
    "    matrix1 = matrices.get('matrix 1')\n",
    "    matrix2 = matrices.get('matrix 2')\n",
    "\n",
    "    if matrix1 is None or matrix2 is None:\n",
    "        print(\"Both matrices must be entered first.\")\n",
    "        return\n",
    "\n",
    "    result_matrix = [[0 for _ in range(len(matrix2[0]))] for _ in range(len(matrix1))]\n",
    "\n",
    "    for i in range(len(matrix1)):\n",
    "        for j in range(len(matrix2[0])):\n",
    "            for k in range(len(matrix2)):\n",
    "                result_matrix[i][j] += matrix1[i][k] * matrix2[k][j]\n",
    "\n",
    "    matrices['result matrix'] = result_matrix\n",
    "\n",
    "# Function to display the result in a file, properly formatted\n",
    "def export_to_file():\n",
    "    result_matrix = matrices.get('result matrix')\n",
    "\n",
    "    if result_matrix is None:\n",
    "        print(\"Result matrix must be calculated first.\")\n",
    "        return\n",
    "\n",
    "    with open('result_matrix.txt', 'w') as file:\n",
    "        for row in result_matrix:\n",
    "            file.write('\\t'.join(str(element) for element in row))\n",
    "            file.write('\\n')\n",
    "\n",
    "# Main program\n",
    "matrices = {}\n",
    "\n",
    "while True:\n",
    "    print(\"\\nMenu:\")\n",
    "    print(\"1. Enter Matrix 1\")\n",
    "    print(\"2. Enter Matrix 2\")\n",
    "    print(\"3. Calculate\")\n",
    "    print(\"4. Export to File\")\n",
    "    print(\"5. Quit\")\n",
    "\n",
    "    choice = int(input(\"Enter your choice: \"))\n",
    "\n",
    "    if choice == 1:\n",
    "        if 'matrix 1' in matrices:\n",
    "            overwrite = input(\"Matrix 1 already exists. Do you want to overwrite? (yes/no): \")\n",
    "            if overwrite.lower() == 'yes':\n",
    "                collect_matrix('matrix 1')\n",
    "        else:\n",
    "            collect_matrix('matrix 1')\n",
    "    elif choice == 2:\n",
    "        if 'matrix 2' in matrices:\n",
    "            overwrite = input(\"Matrix 2 already exists. Do you want to overwrite? (yes/no): \")\n",
    "            if overwrite.lower() == 'yes':\n",
    "                collect_matrix('matrix 2')\n",
    "        else:\n",
    "            collect_matrix('matrix 2')\n",
    "    elif choice == 3:\n",
    "        process_matrices()\n",
    "        print(\"Matrices processed.\")\n",
    "    elif choice == 4:\n",
    "        export_to_file()\n",
    "        print(\"Result matrix exported to 'result_matrix.txt'.\")\n",
    "    elif choice == 5:\n",
    "        break\n",
    "    else:\n",
    "        print(\"Invalid choice. Please try again.\")\n"
   ]
  },
  {
   "cell_type": "markdown",
   "metadata": {},
   "source": [
    "lab practice\n"
   ]
  },
  {
   "cell_type": "code",
   "execution_count": 4,
   "metadata": {},
   "outputs": [
    {
     "ename": "IndentationError",
     "evalue": "unindent does not match any outer indentation level (<tokenize>, line 5)",
     "output_type": "error",
     "traceback": [
      "\u001b[1;36m  File \u001b[1;32m<tokenize>:5\u001b[1;36m\u001b[0m\n\u001b[1;33m    def addlal(self,name,phone):\u001b[0m\n\u001b[1;37m    ^\u001b[0m\n\u001b[1;31mIndentationError\u001b[0m\u001b[1;31m:\u001b[0m unindent does not match any outer indentation level\n"
     ]
    }
   ],
   "source": [
    "class lal:\n",
    "     def __init__(self):\n",
    "          self.lal={}\n",
    "          self.lal2={}\n",
    "    def addlal(self,name,phone):\n",
    "        self.add2={\n",
    "              \"name\":name,\n",
    "              \"ph\":phone\n",
    "\n",
    "\n",
    "        }   \n",
    "    \n",
    "    print(self.add1)\n",
    "\n",
    "          "
   ]
  },
  {
   "cell_type": "code",
   "execution_count": null,
   "metadata": {},
   "outputs": [],
   "source": []
  }
 ],
 "metadata": {
  "kernelspec": {
   "display_name": "Python 3",
   "language": "python",
   "name": "python3"
  },
  "language_info": {
   "codemirror_mode": {
    "name": "ipython",
    "version": 3
   },
   "file_extension": ".py",
   "mimetype": "text/x-python",
   "name": "python",
   "nbconvert_exporter": "python",
   "pygments_lexer": "ipython3",
   "version": "3.11.5"
  },
  "orig_nbformat": 4
 },
 "nbformat": 4,
 "nbformat_minor": 2
}
