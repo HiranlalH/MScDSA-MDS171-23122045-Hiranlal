{
 "cells": [
  {
   "cell_type": "code",
   "execution_count": 1,
   "metadata": {},
   "outputs": [
    {
     "name": "stdout",
     "output_type": "stream",
     "text": [
      "OrderID: 81520, Items: {'fried chicken': 2, 'Salad': 1}, Total: $25\n",
      "OrderID: 27305, Items: {'Pizza': 1, 'Burger': 3}, Total: $36\n"
     ]
    }
   ],
   "source": [
    "import random\n",
    "\n",
    "# Predefined menu and prices\n",
    "menu = {\n",
    "    \"fried chicken\": 10,\n",
    "    \"Pizza\": 12,\n",
    "    \"Salad\": 5,\n",
    "    \"Burger\": 8,\n",
    "    \"Ice Cream\": 4\n",
    "}\n",
    "\n",
    "orders = []\n",
    "\n",
    "class Order:\n",
    "    def __init__(self, order_id):\n",
    "        self.order_id = order_id\n",
    "        self.items = {}\n",
    "\n",
    "    def add_item(self, item, quantity):\n",
    "        if item in menu:\n",
    "            self.items[item] = quantity\n",
    "        else:\n",
    "            print(f\"{item} is not in the menu.\")\n",
    "\n",
    "    def calculate_total(self):\n",
    "        total = sum(menu[item] * quantity for item, quantity in self.items.items())\n",
    "        return total\n",
    "\n",
    "    def __str__(self):\n",
    "        return f\"OrderID: {self.order_id}, Items: {self.items}, Total: ${self.calculate_total()}\"\n",
    "\n",
    "def generate_order_id():\n",
    "    return ''.join(str(random.randint(0, 9)) for _ in range(5))\n",
    "\n",
    "def create_new_order():\n",
    "    order_id = generate_order_id()\n",
    "    order = Order(order_id)\n",
    "    orders.append(order)\n",
    "    return order\n",
    "\n",
    "def view_orders():\n",
    "    for order in orders:\n",
    "        print(order)\n",
    "\n",
    "# Example usage:\n",
    "\n",
    "# Create new orders\n",
    "order1 = create_new_order()\n",
    "order1.add_item(\"fried chicken\", 2)\n",
    "order1.add_item(\"Salad\", 1)\n",
    "\n",
    "order2 = create_new_order()\n",
    "order2.add_item(\"Pizza\", 1)\n",
    "order2.add_item(\"Burger\", 3)\n",
    "\n",
    "# View orders\n",
    "view_orders()\n"
   ]
  }
 ],
 "metadata": {
  "kernelspec": {
   "display_name": "Python 3",
   "language": "python",
   "name": "python3"
  },
  "language_info": {
   "codemirror_mode": {
    "name": "ipython",
    "version": 3
   },
   "file_extension": ".py",
   "mimetype": "text/x-python",
   "name": "python",
   "nbconvert_exporter": "python",
   "pygments_lexer": "ipython3",
   "version": "3.11.5"
  },
  "orig_nbformat": 4
 },
 "nbformat": 4,
 "nbformat_minor": 2
}
