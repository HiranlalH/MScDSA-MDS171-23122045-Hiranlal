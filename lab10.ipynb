{
 "cells": [
  {
   "cell_type": "code",
   "execution_count": null,
   "metadata": {},
   "outputs": [],
   "source": [
    "#creating a class of student details and marks\n",
    "class students:\n",
    "    def _init_(self):\n",
    "        self.student = []\n",
    "\n",
    "    def student_details(self,name,reg_no,course,year):\n",
    "        self.details = {\"Name\" : name,\n",
    "                        \"Register No.\" : reg_no,\n",
    "                        \"Course\" : course,\n",
    "                        \"Year\" : year\n",
    "                        }\n",
    "        self.std_dict = {self.details[\"Name\"] : self.student}\n",
    "        self.student.append(self.details)\n",
    "        \n",
    "    def marks(self,res,mat,stat,py,excel):\n",
    "        self.mark_det = {\"Research Methodology\" : res,\n",
    "                         \"Mathematics\" : mat,\n",
    "                         \"Statistics\" : stat,\n",
    "                         \"Python\" : py,\n",
    "                         \"Excel\" : excel\n",
    "                         }\n",
    "        self.student.append(self.mark_det)\n",
    "\n",
    "    def print_studentdet(self):\n",
    "        print(self.student)\n",
    "\n",
    "    # def del_student():"
   ]
  }
 ],
 "metadata": {
  "language_info": {
   "name": "python"
  }
 },
 "nbformat": 4,
 "nbformat_minor": 2
}
